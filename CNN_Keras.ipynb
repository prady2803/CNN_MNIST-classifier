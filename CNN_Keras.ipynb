{
 "cells": [
  {
   "cell_type": "code",
   "execution_count": 97,
   "metadata": {},
   "outputs": [],
   "source": [
    "import tensorflow as tf\n",
    "from tensorflow import keras\n",
    "import numpy as np\n",
    "from keras.utils import np_utils\n",
    "import tensorflow_cloud as tfc"
   ]
  },
  {
   "cell_type": "code",
   "execution_count": 98,
   "metadata": {},
   "outputs": [],
   "source": [
    "(X_train, y_train),(X_test,y_test)= keras.datasets.mnist.load_data()"
   ]
  },
  {
   "cell_type": "code",
   "execution_count": 99,
   "metadata": {},
   "outputs": [
    {
     "data": {
      "text/plain": [
       "(60000, 28, 28)"
      ]
     },
     "execution_count": 99,
     "metadata": {},
     "output_type": "execute_result"
    }
   ],
   "source": [
    "X_train.shape"
   ]
  },
  {
   "cell_type": "code",
   "execution_count": 100,
   "metadata": {},
   "outputs": [
    {
     "data": {
      "text/plain": [
       "(10000, 28, 28)"
      ]
     },
     "execution_count": 100,
     "metadata": {},
     "output_type": "execute_result"
    }
   ],
   "source": [
    "X_test.shape"
   ]
  },
  {
   "cell_type": "code",
   "execution_count": 101,
   "metadata": {},
   "outputs": [
    {
     "data": {
      "text/plain": [
       "(60000,)"
      ]
     },
     "execution_count": 101,
     "metadata": {},
     "output_type": "execute_result"
    }
   ],
   "source": [
    "y_train.shape"
   ]
  },
  {
   "cell_type": "code",
   "execution_count": 102,
   "metadata": {},
   "outputs": [
    {
     "data": {
      "text/plain": [
       "(10000,)"
      ]
     },
     "execution_count": 102,
     "metadata": {},
     "output_type": "execute_result"
    }
   ],
   "source": [
    "y_test.shape"
   ]
  },
  {
   "cell_type": "code",
   "execution_count": 113,
   "metadata": {},
   "outputs": [],
   "source": [
    "X_train = X_train.reshape(60000,28,28,1)\n",
    "X_test = X_test.reshape(10000,28,28,1)  #Flattened the image data to 1-Dimensional data from 2-Dimentional data\n",
    "X_train = X_train.astype('float32')\n",
    "X_test = X_test.astype('float32')"
   ]
  },
  {
   "cell_type": "code",
   "execution_count": 114,
   "metadata": {},
   "outputs": [],
   "source": [
    "X_train = X_train/255\n",
    "X_test = X_test/255    # Normalized the pixel values"
   ]
  },
  {
   "cell_type": "code",
   "execution_count": 128,
   "metadata": {},
   "outputs": [
    {
     "name": "stdout",
     "output_type": "stream",
     "text": [
      "shape of the y_train and y_test after one-hot-encoding: (60000, 10) (10000, 10)\n"
     ]
    }
   ],
   "source": [
    "n_classes =10\n",
    "Y_train = np_utils.to_categorical(y_train, n_classes)\n",
    "Y_test = np_utils.to_categorical(y_test,n_classes)     # Done one-hot-encoding for categoriacl columns \n",
    "print(\"shape of the y_train and y_test after one-hot-encoding:\", Y_train.shape, Y_test.shape)"
   ]
  },
  {
   "cell_type": "code",
   "execution_count": 129,
   "metadata": {},
   "outputs": [],
   "source": [
    "from keras.layers import Dense, Dropout, Conv2D, MaxPool2D,Flatten  \n",
    "from keras.models import Sequential\n",
    "from functools import partial"
   ]
  },
  {
   "cell_type": "code",
   "execution_count": 130,
   "metadata": {},
   "outputs": [],
   "source": [
    "model = Sequential()\n",
    "Default_Conv2D = partial(keras.layers.Conv2D, kernel_size = 3, activation =\"relu\", padding= \"SAME\")\n",
    "model.add(Default_Conv2D(filters = 32, kernel_size=7, input_shape= (28,28,1)))\n",
    "model.add(MaxPool2D(pool_size=2))\n",
    "model.add(Default_Conv2D(filters=64))\n",
    "model.add(MaxPool2D(pool_size = 1))\n",
    "model.add(Flatten())\n",
    "model.add(Dense(400, activation= \"relu\"))\n",
    "model.add(Dense(200, activation= \"relu\"))\n",
    "model.add(Dense(10, activation =\"softmax\"))"
   ]
  },
  {
   "cell_type": "code",
   "execution_count": 133,
   "metadata": {},
   "outputs": [
    {
     "name": "stdout",
     "output_type": "stream",
     "text": [
      "Epoch 1/10\n",
      "469/469 [==============================] - 77s 164ms/step - loss: 0.0994 - accuracy: 0.9686 - val_loss: 0.0955 - val_accuracy: 0.9693\n",
      "Epoch 2/10\n",
      "469/469 [==============================] - 84s 178ms/step - loss: 0.0850 - accuracy: 0.9726 - val_loss: 0.0787 - val_accuracy: 0.9743\n",
      "Epoch 3/10\n",
      "469/469 [==============================] - 84s 179ms/step - loss: 0.0677 - accuracy: 0.9783 - val_loss: 0.0717 - val_accuracy: 0.9771\n",
      "Epoch 4/10\n",
      "469/469 [==============================] - 94s 200ms/step - loss: 0.0625 - accuracy: 0.9803 - val_loss: 0.0665 - val_accuracy: 0.9808\n",
      "Epoch 5/10\n",
      "469/469 [==============================] - 89s 189ms/step - loss: 0.0517 - accuracy: 0.9830 - val_loss: 0.0701 - val_accuracy: 0.9779\n",
      "Epoch 6/10\n",
      "469/469 [==============================] - 85s 181ms/step - loss: 0.0470 - accuracy: 0.9845 - val_loss: 0.0679 - val_accuracy: 0.9793\n",
      "Epoch 7/10\n",
      "469/469 [==============================] - 83s 178ms/step - loss: 0.0398 - accuracy: 0.9874 - val_loss: 0.0612 - val_accuracy: 0.9825\n",
      "Epoch 8/10\n",
      "469/469 [==============================] - 81s 172ms/step - loss: 0.0349 - accuracy: 0.9886 - val_loss: 0.0630 - val_accuracy: 0.9813\n",
      "Epoch 9/10\n",
      "469/469 [==============================] - 81s 172ms/step - loss: 0.0308 - accuracy: 0.9898 - val_loss: 0.0538 - val_accuracy: 0.9834\n",
      "Epoch 10/10\n",
      "469/469 [==============================] - 82s 175ms/step - loss: 0.0272 - accuracy: 0.9912 - val_loss: 0.0513 - val_accuracy: 0.9859\n",
      "INFO:tensorflow:Assets written to: ./mnist_keras-model\\assets\n"
     ]
    },
    {
     "name": "stderr",
     "output_type": "stream",
     "text": [
      "INFO:tensorflow:Assets written to: ./mnist_keras-model\\assets\n"
     ]
    }
   ],
   "source": [
    "model.compile(loss='categorical_crossentropy',metrics=['accuracy'], optimizer='adam')\n",
    "\n",
    "model.fit(X_train, Y_train, batch_size = 128, epochs = 10, validation_data = (X_test,Y_test))\n",
    "model.save( \"./mnist_keras-model\")"
   ]
  },
  {
   "cell_type": "code",
   "execution_count": null,
   "metadata": {},
   "outputs": [],
   "source": []
  },
  {
   "cell_type": "code",
   "execution_count": null,
   "metadata": {},
   "outputs": [],
   "source": []
  }
 ],
 "metadata": {
  "kernelspec": {
   "display_name": "Python 3",
   "language": "python",
   "name": "python3"
  },
  "language_info": {
   "codemirror_mode": {
    "name": "ipython",
    "version": 3
   },
   "file_extension": ".py",
   "mimetype": "text/x-python",
   "name": "python",
   "nbconvert_exporter": "python",
   "pygments_lexer": "ipython3",
   "version": "3.7.4"
  }
 },
 "nbformat": 4,
 "nbformat_minor": 4
}
